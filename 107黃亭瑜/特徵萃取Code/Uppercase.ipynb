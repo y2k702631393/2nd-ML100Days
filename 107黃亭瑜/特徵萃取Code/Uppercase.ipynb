{
 "cells": [
  {
   "cell_type": "code",
   "execution_count": 1,
   "metadata": {
    "collapsed": true
   },
   "outputs": [],
   "source": [
    "import warnings\n",
    "warnings.filterwarnings('ignore')\n",
    "import xml.etree.ElementTree as ET\n",
    "import html.parser\n",
    "from xml.sax.saxutils import unescape\n",
    "import nltk\n",
    "from nltk.tokenize import sent_tokenize\n",
    "from nltk.tokenize import word_tokenize\n",
    "from nltk.corpus import stopwords\n",
    "from nltk.chunk import ne_chunk\n",
    "from nltk.tag import pos_tag\n",
    "from nltk.tree import Tree\n",
    "from nltk.stem import WordNetLemmatizer\n",
    "import csv\n",
    "import re"
   ]
  },
  {
   "cell_type": "code",
   "execution_count": 2,
   "metadata": {
    "collapsed": true
   },
   "outputs": [],
   "source": [
    "df = open('OrignalData3/doclist.txt', 'r').read() #str\n",
    "df_num = df.split('\\n')  # str to list,以','切割"
   ]
  },
  {
   "cell_type": "code",
   "execution_count": 3,
   "metadata": {
    "collapsed": true
   },
   "outputs": [],
   "source": [
    "clean_txts =[]\n",
    "clean_uppers = []\n",
    "exl = []\n",
    "j = 0\n",
    "stop_words = set(stopwords.words('english'))    #停用詞\n",
    "stop_words.update([',', '.', ':', ';', '(', ')', '[', ']', '&', '*', '@', '#', '$', '%', '``', \"''\",\n",
    "                   '?', '!', '<', '>', '*', '/', 'I'])    #標點符號\n",
    "\n",
    "for doc in df_num:\n",
    "    tree = ET.parse('Myspace/xml/'+str(doc)+'.xml')        \n",
    "    root = tree.getroot() \n",
    "    bodycount = []\n",
    "    for child in root.iter(tag='body'):\n",
    "        bodycount.append(child.text)\n",
    "    childlist = ('<br>'.join('%s' %id for id in bodycount))\n",
    "    escape = childlist.replace('<br>', ' ')  # str 1.unescape-轉換字串符號 2.文本轉文小寫 3.把<br>取代為空白\n",
    "    re_url = re.sub(r'http://[a-zA-Z0-9./?%&_=-]*','' ,escape)\n",
    "    txts = word_tokenize(re_url)    # 斷詞\n",
    "    clean_txts = [t for t in txts if t not in stop_words]    \n",
    "#     print(clean_txts)\n",
    "    clean_uppers = [u.upper() for u in txts if u not in stop_words]    # 轉大寫做比對\n",
    "#     print(clean_uppers)\n",
    "    count = 0\n",
    "    j += 1\n",
    "    for i in clean_txts:\n",
    "        if i in clean_uppers:    # 比對\n",
    "            if(i.isalpha()):     # 判斷是否字母\n",
    "                count+=1\n",
    "#                 print(i)\n",
    "#     print(count)\n",
    "#     print('-----')\n",
    "    exl.append([])\n",
    "    exl[j-1].append(str(doc))\n",
    "    exl[j-1].append(count)\n",
    "#     print(exl)\n",
    "title = ['Doc','Uppercase(num)']"
   ]
  },
  {
   "cell_type": "code",
   "execution_count": 4,
   "metadata": {
    "collapsed": true
   },
   "outputs": [],
   "source": [
    "with open('OrignalData3/Features/Uppercase_MS.csv', 'w', encoding='UTF-8', newline='') as csvfile:\n",
    "  # 以空白分隔欄位，建立 CSV 檔寫入器\n",
    "    writer = csv.writer(csvfile)\n",
    "    writer.writerow(title)\n",
    "    writer.writerows(exl)"
   ]
  },
  {
   "cell_type": "code",
   "execution_count": null,
   "metadata": {
    "collapsed": true
   },
   "outputs": [],
   "source": []
  }
 ],
 "metadata": {
  "kernelspec": {
   "display_name": "Python 3",
   "language": "python",
   "name": "python3"
  },
  "language_info": {
   "codemirror_mode": {
    "name": "ipython",
    "version": 3
   },
   "file_extension": ".py",
   "mimetype": "text/x-python",
   "name": "python",
   "nbconvert_exporter": "python",
   "pygments_lexer": "ipython3",
   "version": "3.6.1"
  }
 },
 "nbformat": 4,
 "nbformat_minor": 2
}
