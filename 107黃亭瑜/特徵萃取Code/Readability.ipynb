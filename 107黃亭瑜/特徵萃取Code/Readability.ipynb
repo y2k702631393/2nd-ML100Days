{
 "cells": [
  {
   "cell_type": "code",
   "execution_count": 1,
   "metadata": {
    "collapsed": true
   },
   "outputs": [],
   "source": [
    "import nltk\n",
    "from nltk.tokenize import word_tokenize\n",
    "from nltk.corpus import sentiwordnet as swn\n",
    "from nltk.corpus import stopwords\n",
    "stop_words = set(stopwords.words('english')) \n",
    "stop_words.update(['.', ',', '\"', \"'\", '?', '!', ':', ';', '(', ')', '[', ']', '{', '}','<','br','>','Q','A']) "
   ]
  },
  {
   "cell_type": "code",
   "execution_count": 2,
   "metadata": {
    "collapsed": true
   },
   "outputs": [],
   "source": [
    "import os, sys\n",
    "import warnings\n",
    "warnings.filterwarnings('ignore')"
   ]
  },
  {
   "cell_type": "code",
   "execution_count": 3,
   "metadata": {
    "collapsed": true
   },
   "outputs": [],
   "source": [
    "from xml.sax.saxutils import unescape\n",
    "import xml.etree.ElementTree as ET\n",
    "import readability\n",
    "import html.parser\n",
    "doc = open('CutData/Pseudo/NTF_200/Features_NTF2_1/Doc_NTF2_1.csv', 'r').read() \n",
    "doc_num = doc.split('\\n')  \n",
    "tree = ET.parse('Formspring/new_XMLMergedFile.xml')\n",
    "root = tree.getroot()"
   ]
  },
  {
   "cell_type": "code",
   "execution_count": 4,
   "metadata": {
    "collapsed": true
   },
   "outputs": [],
   "source": [
    "import csv\n",
    "def store(data,data2,data3,data4,data5,data6):\n",
    "    with open('CutData/Pseudo/NTF_200/Features_NTF2_1/Readability_NTF2_1.csv', 'a', newline='') as csvfile:\n",
    "        fieldnames = ['FRE','SMOG','CLI','ARI','FOG','FKGL']\n",
    "        writer = csv.DictWriter(csvfile, fieldnames=fieldnames)\n",
    "        writer.writeheader()\n",
    "        for line,line2,line3,line4,line5,line6 in zip(data,data2,data3,data4,data5,data6):\n",
    "            writer.writerow({'FRE': str(line),'SMOG': str(line2),'CLI': str(line3) \n",
    "                            ,'ARI': str(line4),'FOG': str(line5) ,'FKGL': str(line6)})"
   ]
  },
  {
   "cell_type": "code",
   "execution_count": 5,
   "metadata": {
    "collapsed": true
   },
   "outputs": [],
   "source": [
    "fre_list=[]\n",
    "smog_list=[]\n",
    "cli_list=[]\n",
    "ari_list=[]\n",
    "fog_list=[]\n",
    "fkgl_list=[]\n",
    "for child in root.iter(tag='TEXT'):\n",
    "    if child.attrib[\"id\"] in doc_num:\n",
    "        html_parser = html.parser.HTMLParser()\n",
    "        content = html_parser.unescape(child.text)\n",
    "        results = readability.getmeasures(content, lang='en')\n",
    "        fre_list.append(results['readability grades']['FleschReadingEase'])\n",
    "        smog_list.append(results['readability grades']['SMOGIndex'])\n",
    "        cli_list.append(results['readability grades']['Coleman-Liau'])\n",
    "        ari_list.append(results['readability grades']['ARI'])\n",
    "        fog_list.append(results['readability grades']['GunningFogIndex'])\n",
    "        fkgl_list.append(results['readability grades']['Kincaid'])\n",
    "store(fre_list,smog_list,cli_list,ari_list,fog_list,fkgl_list)    \n",
    "#     print(\"FRE:\",results['readability grades']['FleschReadingEase'])\n",
    "#     print(\"SMOG\",results['readability grades']['SMOGIndex'])\n",
    "#     print(\"CLI\",results['readability grades']['Coleman-Liau'])\n",
    "#     print(\"ARI\",results['readability grades']['ARI'])\n",
    "#     print(\"FOG\",results['readability grades']['GunningFogIndex'])\n",
    "#     print(\"FKGL\",results['readability grades']['Kincaid'])"
   ]
  },
  {
   "cell_type": "code",
   "execution_count": 6,
   "metadata": {
    "collapsed": true
   },
   "outputs": [],
   "source": [
    "import csv\n",
    "def word_store(data):\n",
    "    with open('CutData/Pseudo/NTF_200/Features_NTF2_1/Length_NTF2_1.csv', 'a', newline='') as csvfile:\n",
    "        fieldnames = ['Length']\n",
    "        writer = csv.DictWriter(csvfile, fieldnames=fieldnames)\n",
    "        writer.writeheader()\n",
    "        for line in data:\n",
    "            writer.writerow({'Length': str(line)})"
   ]
  },
  {
   "cell_type": "code",
   "execution_count": 7,
   "metadata": {
    "collapsed": true
   },
   "outputs": [],
   "source": [
    "word_list=[]\n",
    "for child in root.iter(tag='TEXT'):\n",
    "    if child.attrib[\"id\"] in doc_num:\n",
    "        html_parser = html.parser.HTMLParser()\n",
    "        content = html_parser.unescape(child.text)\n",
    "        results = readability.getmeasures(content, lang='en')\n",
    "        word_list.append(results['sentence info']['words'])\n",
    "word_store(word_list)"
   ]
  },
  {
   "cell_type": "code",
   "execution_count": 8,
   "metadata": {
    "collapsed": true
   },
   "outputs": [],
   "source": [
    "import csv\n",
    "def spell_store(data):\n",
    "    with open('CutData/Pseudo/NTF_200/Features_NTF2_1/SpellMiss_NTF2_1.csv', 'a', newline='') as csvfile:\n",
    "        fieldnames = ['SpellMiss(num)']\n",
    "        writer = csv.DictWriter(csvfile, fieldnames=fieldnames)\n",
    "        writer.writeheader()\n",
    "        for line in data:\n",
    "            writer.writerow({'SpellMiss(num)': str(line)})"
   ]
  },
  {
   "cell_type": "code",
   "execution_count": 9,
   "metadata": {
    "collapsed": true
   },
   "outputs": [],
   "source": [
    "from spellchecker import SpellChecker\n",
    "import re\n",
    "word_list=[]\n",
    "symbol = {'!', '\"', '#', '$', '%', '&',\"'\", '(', ')', '*', '+', ',', '-', '.', '/', ':', ';', '<', \n",
    "          '=', '>', '?', '@', '[',  ']', '^', '_', '`', '{', '|', '}', '~', '\\'' ,'<br>' ,'Q','A'}\n",
    "spell = SpellChecker()\n",
    "for child in root.iter(tag='TEXT'):\n",
    "    if child.attrib[\"id\"] in doc_num:\n",
    "        html_parser = html.parser.HTMLParser()\n",
    "        content = html_parser.unescape(child.text)\n",
    "        re_url = re.sub(r'http://[a-zA-Z0-9./?%&_=-]*','' ,content)\n",
    "        for x in symbol:\n",
    "            if x in re_url:\n",
    "                re_url = re_url.replace(x, '').strip()    #去除符號\n",
    "        stokens = nltk.word_tokenize(re_url)#斷詞\n",
    "        misspelled = spell.unknown(stokens)\n",
    "        word_list.append(len(misspelled))\n",
    "spell_store(word_list)   "
   ]
  },
  {
   "cell_type": "code",
   "execution_count": null,
   "metadata": {
    "collapsed": true
   },
   "outputs": [],
   "source": []
  }
 ],
 "metadata": {
  "kernelspec": {
   "display_name": "Python 3",
   "language": "python",
   "name": "python3"
  },
  "language_info": {
   "codemirror_mode": {
    "name": "ipython",
    "version": 3
   },
   "file_extension": ".py",
   "mimetype": "text/x-python",
   "name": "python",
   "nbconvert_exporter": "python",
   "pygments_lexer": "ipython3",
   "version": "3.6.1"
  }
 },
 "nbformat": 4,
 "nbformat_minor": 2
}
