{
 "cells": [
  {
   "cell_type": "code",
   "execution_count": 1,
   "metadata": {
    "collapsed": true
   },
   "outputs": [],
   "source": [
    "import warnings\n",
    "warnings.filterwarnings('ignore')\n",
    "import xml.etree.ElementTree as ET\n",
    "import html.parser\n",
    "from xml.sax.saxutils import unescape\n",
    "import nltk\n",
    "from nltk.tokenize import sent_tokenize\n",
    "from nltk.tokenize import word_tokenize\n",
    "from nltk.corpus import stopwords\n",
    "from nltk.chunk import ne_chunk\n",
    "from nltk.tag import pos_tag\n",
    "from nltk.tree import Tree\n",
    "from nltk.stem import WordNetLemmatizer\n",
    "import csv\n",
    "import re"
   ]
  },
  {
   "cell_type": "code",
   "execution_count": 3,
   "metadata": {
    "collapsed": true
   },
   "outputs": [],
   "source": [
    "doc = open('CutData/Doc_NTF2_1.csv', 'r').read() #str\n",
    "doc_num = doc.split('\\n')  # str to list,以','切割"
   ]
  },
  {
   "cell_type": "code",
   "execution_count": 4,
   "metadata": {
    "collapsed": true
   },
   "outputs": [],
   "source": [
    "tree = ET.parse('Formspring/new_XMLMergedFile.xml') #Pseudo/NTF_200/Features_NTF2_1/\n",
    "root = tree.getroot()\n",
    "clean_posts =[]\n",
    "stop_words = set(stopwords.words('english'))    # 停用詞\n",
    "stop_words.update(['!', '\"', '#', '$', '%', '&',\"'\", '(', ')', '*', '+', ',', '-', '.', '/', ':', ';', '<', \n",
    "                   '=', '>', '?', '@', '[',  ']', '^', '_', '`', '{', '|', '}', '~', '\\''])    # 標點符號\n",
    "html_parser = html.parser.HTMLParser()\n",
    "exl = []\n",
    "j = 0\n",
    "for child in root.iter(tag='TEXT'):\n",
    "    if child.attrib[\"id\"] in doc_num:\n",
    "        escape = html_parser.unescape(child.text).lower().replace('<br>', ' ')    # str 1.unescape-轉換字串符號 2.文本轉文小寫 3.把<br>取代為空白\n",
    "        re_url = re.sub(r'http://[a-zA-Z0-9./?%&_=-]*','' ,escape)\n",
    "        posts = word_tokenize(re_url)    #斷詞, list\n",
    "        clean_posts = [post for post in posts if post not in stop_words]          # 去除停用詞&標點符號, list\n",
    "\n",
    "        f = open('Formspring/BadWordList.txt', 'r').read() #str\n",
    "        file = f.split(',')  # str to list,以','切割\n",
    "        files = set(file)    # list to set \n",
    "        count = 0\n",
    "    #     print(clean_posts)\n",
    "        #*****找出壞詞*****\n",
    "        j += 1\n",
    "        for i in clean_posts:\n",
    "            if i in files:\n",
    "                count+=1\n",
    "    #             print(i)\n",
    "    #     print(count)\n",
    "    #     print('-----')\n",
    "        exl.append([])\n",
    "        exl[j-1].append(\"D\" + str(child.attrib[\"id\"]))\n",
    "        exl[j-1].append(count)\n",
    "#     print(exl)\n",
    "    title = ['Doc','BadWord(num)']"
   ]
  },
  {
   "cell_type": "code",
   "execution_count": 5,
   "metadata": {
    "collapsed": true
   },
   "outputs": [],
   "source": [
    "with open('CutData/BadWord_NTF2_1.csv', 'w', encoding='UTF-8', newline='') as csvfile:\n",
    "  # 以空白分隔欄位，建立 CSV 檔寫入器\n",
    "    writer = csv.writer(csvfile)\n",
    "    writer.writerow(title)\n",
    "    writer.writerows(exl)"
   ]
  },
  {
   "cell_type": "code",
   "execution_count": null,
   "metadata": {
    "collapsed": true
   },
   "outputs": [],
   "source": []
  }
 ],
 "metadata": {
  "kernelspec": {
   "display_name": "Python 3",
   "language": "python",
   "name": "python3"
  },
  "language_info": {
   "codemirror_mode": {
    "name": "ipython",
    "version": 3
   },
   "file_extension": ".py",
   "mimetype": "text/x-python",
   "name": "python",
   "nbconvert_exporter": "python",
   "pygments_lexer": "ipython3",
   "version": "3.6.1"
  }
 },
 "nbformat": 4,
 "nbformat_minor": 2
}
