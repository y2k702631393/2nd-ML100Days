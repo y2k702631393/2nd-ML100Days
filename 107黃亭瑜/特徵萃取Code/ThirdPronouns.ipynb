{
 "cells": [
  {
   "cell_type": "code",
   "execution_count": 1,
   "metadata": {
    "collapsed": true
   },
   "outputs": [],
   "source": [
    "import warnings\n",
    "warnings.filterwarnings('ignore')\n",
    "import xml.etree.ElementTree as ET\n",
    "import html.parser\n",
    "from xml.sax.saxutils import unescape\n",
    "import nltk\n",
    "from nltk.tokenize import sent_tokenize\n",
    "from nltk.tokenize import word_tokenize\n",
    "from nltk.corpus import stopwords\n",
    "from nltk.chunk import ne_chunk\n",
    "from nltk.tag import pos_tag\n",
    "from nltk.tree import Tree\n",
    "from nltk.stem import WordNetLemmatizer\n",
    "import csv\n",
    "import re"
   ]
  },
  {
   "cell_type": "code",
   "execution_count": 2,
   "metadata": {},
   "outputs": [],
   "source": [
    "doc = open('CutData/Pseudo/NTF_200/Features_NTF2_1/Doc_NTF2_1.csv', 'r').read() #str\n",
    "doc_num = doc.split('\\n')  # str to list,以','切割"
   ]
  },
  {
   "cell_type": "code",
   "execution_count": 3,
   "metadata": {
    "collapsed": true
   },
   "outputs": [],
   "source": [
    "tree = ET.parse('Formspring/new_XMLMergedFile.xml')\n",
    "root = tree.getroot()\n",
    "html_parser = html.parser.HTMLParser()\n",
    "exl = []\n",
    "j = 0\n",
    "for child in root.iter(tag='TEXT'):\n",
    "    if child.attrib[\"id\"] in doc_num:\n",
    "        escape = html_parser.unescape(child.text).lower().replace('<br>', ' ')    # 1.unescape-轉換字串符號 2.文本轉文小寫 3.把<br>取代為空白\n",
    "        re_url = re.sub(r'http://[a-zA-Z0-9./?%&_=-]*','' ,escape)\n",
    "        posts = word_tokenize(re_url)    #斷詞\n",
    "        third_prp = {'he', 'him', 'his', 'himself', 'she', 'her', 'hers', 'herself', 'it', 'its', 'itself', \n",
    "                     'they', 'them', 'their', 'theirs', 'themselves'}\n",
    "        count=0\n",
    "    #     print(posts)\n",
    "        j += 1\n",
    "        for t in posts:\n",
    "            if t in third_prp:\n",
    "                count+=1\n",
    "    #             print(t)\n",
    "    #     print(count)\n",
    "    #     print('-----')\n",
    "        exl.append([])\n",
    "        exl[j-1].append(\"D\" + str(child.attrib[\"id\"]))\n",
    "        exl[j-1].append(count)\n",
    "#     print(exl)\n",
    "    title = ['Doc','ThirdPronouns']"
   ]
  },
  {
   "cell_type": "code",
   "execution_count": 4,
   "metadata": {
    "collapsed": true
   },
   "outputs": [],
   "source": [
    "with open('CutData/Pseudo/NTF_200/Features_NTF2_1/ThirdPronouns_NTF2_1.csv', 'w', encoding='UTF-8', newline='') as csvfile:\n",
    "  # 以空白分隔欄位，建立 CSV 檔寫入器\n",
    "    writer = csv.writer(csvfile)\n",
    "    writer.writerow(title)\n",
    "    writer.writerows(exl)"
   ]
  },
  {
   "cell_type": "code",
   "execution_count": null,
   "metadata": {
    "collapsed": true
   },
   "outputs": [],
   "source": []
  }
 ],
 "metadata": {
  "kernelspec": {
   "display_name": "Python 3",
   "language": "python",
   "name": "python3"
  },
  "language_info": {
   "codemirror_mode": {
    "name": "ipython",
    "version": 3
   },
   "file_extension": ".py",
   "mimetype": "text/x-python",
   "name": "python",
   "nbconvert_exporter": "python",
   "pygments_lexer": "ipython3",
   "version": "3.6.1"
  }
 },
 "nbformat": 4,
 "nbformat_minor": 2
}
