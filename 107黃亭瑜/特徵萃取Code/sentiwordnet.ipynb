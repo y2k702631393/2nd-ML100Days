{
 "cells": [
  {
   "cell_type": "code",
   "execution_count": 1,
   "metadata": {
    "collapsed": true
   },
   "outputs": [],
   "source": [
    "import os, sys\n",
    "import warnings\n",
    "warnings.filterwarnings('ignore')"
   ]
  },
  {
   "cell_type": "code",
   "execution_count": 2,
   "metadata": {
    "collapsed": true
   },
   "outputs": [],
   "source": [
    "import xml.etree.ElementTree as ET\n",
    "import html.parser\n",
    "from xml.sax.saxutils import unescape\n",
    "import nltk\n",
    "from nltk.tokenize import word_tokenize\n",
    "from nltk.corpus import sentiwordnet as swn\n",
    "from nltk.corpus import stopwords\n",
    "stop_words = set(stopwords.words('english')) \n",
    "stop_words.update(['.', ',', '\"', \"'\", '?', '!', ':', ';', '(', ')', '[', ']', '{', '}','<','br','>','Q','A'])\n",
    "doc = open('CutData/Pseudo/NTF_200/Features_NTF2_1/Doc_NTF2_1.csv', 'r').read() \n",
    "doc_num = doc.split('\\n')  \n",
    "tree = ET.parse('Formspring/new_XMLMergedFile.xml')\n",
    "root = tree.getroot()"
   ]
  },
  {
   "cell_type": "code",
   "execution_count": 3,
   "metadata": {
    "collapsed": true
   },
   "outputs": [],
   "source": [
    "import csv\n",
    "def store(data,data2,data3):\n",
    "    with open('CutData/Pseudo/NTF_200/Features_NTF2_1/Senti_NTF2_1.csv', 'a', newline='') as csvfile:\n",
    "        fieldnames = ['SentiPos(num)','SentiNeg(num)','Senti(score)']\n",
    "        writer = csv.DictWriter(csvfile, fieldnames=fieldnames)\n",
    "        writer.writeheader()\n",
    "        for line,line2,line3 in zip(data,data2,data3):\n",
    "            writer.writerow({'SentiPos(num)': str(line),'SentiNeg(num)': str(line2),'Senti(score)': str(line3)})"
   ]
  },
  {
   "cell_type": "code",
   "execution_count": 4,
   "metadata": {
    "collapsed": true
   },
   "outputs": [],
   "source": [
    "total_sentiscore_list=[]\n",
    "pos_count_list=[]\n",
    "neg_count_list=[]\n",
    "for child in root.iter(tag='TEXT'):\n",
    "    if child.attrib[\"id\"] in doc_num:\n",
    "        html_parser = html.parser.HTMLParser()\n",
    "        content = html_parser.unescape(child.text)\n",
    "        stokens = nltk.word_tokenize(content)#斷詞\n",
    "        filtered_sentence = [w for w in stokens if not w in stop_words]#刪除停用詞\n",
    "        taggedlist=nltk.pos_tag(filtered_sentence)#詞性標註\n",
    "        wnl = nltk.WordNetLemmatizer() #做詞性還原\n",
    "        score_list = []\n",
    "        for t in taggedlist:\n",
    "            lemmatized = wnl.lemmatize(t[0])\n",
    "            newtag=''\n",
    "            if t[1].startswith('NN'):\n",
    "                newtag='n'\n",
    "            elif t[1].startswith('JJ'):\n",
    "                newtag='a'\n",
    "            elif t[1].startswith('VB'):\n",
    "                newtag='v'\n",
    "            elif t[1].startswith('RB'):\n",
    "                newtag='r'\n",
    "            else:\n",
    "                newtag=''       \n",
    "            if(newtag != ''):\n",
    "                synsets = list(swn.senti_synsets(lemmatized, newtag))\n",
    "               # print(lemmatized, newtag)\n",
    "                score = 0\n",
    "                if(len(synsets) > 0):\n",
    "                    nosenti_count = 0\n",
    "                    for syn in synsets:\n",
    "                        if syn.pos_score() == 0 and syn.neg_score() == 0:\n",
    "                            nosenti_count += 1\n",
    "                            continue\n",
    "                        else:\n",
    "                            score +=syn.pos_score()-syn.neg_score()       \n",
    "                    if len(synsets) != nosenti_count:\n",
    "                        score_list.append(score/(len(synsets)-nosenti_count)) \n",
    "                     #   print(score_list)\n",
    "                else:\n",
    "                    continue\n",
    "        if score_list != []:\n",
    "            total_sentiscore = 0\n",
    "            pos_count = 0\n",
    "            neg_count = 0\n",
    "            for score in score_list:\n",
    "                if score >= 0:\n",
    "                    pos_count += 1\n",
    "                else:\n",
    "                    neg_count += 1\n",
    "                total_sentiscore += score\n",
    "            total_sentiscore_list.append(total_sentiscore)\n",
    "            pos_count_list.append(pos_count)\n",
    "            neg_count_list.append(neg_count)\n",
    "        else:\n",
    "            total_sentiscore_list.append(0)\n",
    "            pos_count_list.append(0)\n",
    "            neg_count_list.append(0)\n",
    "store(pos_count_list,neg_count_list,total_sentiscore_list)\n",
    "    #print('情感分數:',total_sentiscore,'正向情感個數',pos_count,'負向情感個數',neg_count)"
   ]
  }
 ],
 "metadata": {
  "kernelspec": {
   "display_name": "Python 3",
   "language": "python",
   "name": "python3"
  },
  "language_info": {
   "codemirror_mode": {
    "name": "ipython",
    "version": 3
   },
   "file_extension": ".py",
   "mimetype": "text/x-python",
   "name": "python",
   "nbconvert_exporter": "python",
   "pygments_lexer": "ipython3",
   "version": "3.6.1"
  }
 },
 "nbformat": 4,
 "nbformat_minor": 2
}
