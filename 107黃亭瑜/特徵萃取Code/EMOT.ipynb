{
 "cells": [
  {
   "cell_type": "code",
   "execution_count": 1,
   "metadata": {
    "collapsed": true
   },
   "outputs": [],
   "source": [
    "import csv\n",
    "def store(data):\n",
    "    with open('CutData/Pseudo/NTF_200/Features_NTF2_1/Emot_NTF2_1.csv', 'a', newline='') as csvfile:\n",
    "        fieldnames = ['Emot(num)']\n",
    "        writer = csv.DictWriter(csvfile, fieldnames=fieldnames)\n",
    "        writer.writeheader()\n",
    "        for line in data:\n",
    "            writer.writerow({'Emot(num)': str(line)})"
   ]
  },
  {
   "cell_type": "code",
   "execution_count": 2,
   "metadata": {
    "collapsed": true
   },
   "outputs": [],
   "source": [
    "import csv\n",
    "def score_store(data):\n",
    "    #print(data)\n",
    "    with open('CutData/Pseudo/NTF_200/Features_NTF2_1/EmotMean_NTF2_1.csv', 'a', newline='') as csvfile:\n",
    "        fieldnames = ['EmotMean(score)']\n",
    "        writer = csv.DictWriter(csvfile, fieldnames=fieldnames)\n",
    "        writer.writeheader()\n",
    "        for line in data:\n",
    "            writer.writerow({'EmotMean(score)': str(line)})   \n",
    "#     with open('test.csv', 'a', newline='') as csvfile:\n",
    "#         writer = csv.writer(csvfile, delimiter=',')\n",
    "#         csvfile.write('貼文表情符號意義情感分數加總'+'\\n')\n",
    "#         for line in data: \n",
    "#              writer.writerow(str(line))"
   ]
  },
  {
   "cell_type": "code",
   "execution_count": 3,
   "metadata": {
    "collapsed": true
   },
   "outputs": [],
   "source": [
    "import os, sys\n",
    "import warnings\n",
    "warnings.filterwarnings('ignore')"
   ]
  },
  {
   "cell_type": "code",
   "execution_count": 4,
   "metadata": {
    "collapsed": true
   },
   "outputs": [],
   "source": [
    "import xml.etree.ElementTree as ET\n",
    "import html.parser\n",
    "from xml.sax.saxutils import unescape\n",
    "import nltk\n",
    "from nltk.tokenize import word_tokenize\n",
    "from nltk.corpus import sentiwordnet as swn\n",
    "from nltk.corpus import stopwords\n",
    "import emot\n",
    "stop_words = set(stopwords.words('english')) \n",
    "stop_words.update(['.', ',', '\"', \"'\", '?', '!', ':', ';', '(', ')', '[', ']', '{', '}','<','br','>','Q','A'])\n",
    "doc = open('CutData/Pseudo/NTF_200/Features_NTF2_1/Doc_NTF2_1.csv', 'r').read() \n",
    "doc_num = doc.split('\\n')  \n",
    "tree = ET.parse('Formspring/new_XMLMergedFile.xml')\n",
    "root = tree.getroot()"
   ]
  },
  {
   "cell_type": "code",
   "execution_count": 5,
   "metadata": {
    "collapsed": true
   },
   "outputs": [],
   "source": [
    "total_sentiscore_list=[]\n",
    "for child in root.iter(tag='TEXT'):\n",
    "    if child.attrib[\"id\"] in doc_num:\n",
    "        html_parser = html.parser.HTMLParser()\n",
    "        content = html_parser.unescape(child.text)\n",
    "        content=content.replace('<br>',' ')\n",
    "        ans = emot.emoticons(content)\n",
    "        try:\n",
    "            if ans['mean'] !=[]:\n",
    "                #print(ans['mean'])\n",
    "                emot_content=str(ans['mean']).strip('[]').strip(\"'\")\n",
    "                stokens = nltk.word_tokenize(emot_content)#斷詞\n",
    "                filtered_sentence = [w for w in stokens if not w in stop_words]#刪除停用詞\n",
    "                taggedlist=nltk.pos_tag(filtered_sentence)#詞性標註\n",
    "                wnl = nltk.WordNetLemmatizer() #做詞性還原\n",
    "                score_list = []\n",
    "                for t in taggedlist:\n",
    "                    lemmatized = wnl.lemmatize(t[0])\n",
    "                    newtag=''\n",
    "                    if t[1].startswith('NN'):\n",
    "                        newtag='n'\n",
    "                    elif t[1].startswith('JJ'):\n",
    "                        newtag='a'\n",
    "                    elif t[1].startswith('VB'):\n",
    "                        newtag='v'\n",
    "                    elif t[1].startswith('RB'):\n",
    "                        newtag='r'\n",
    "                    else:\n",
    "                        newtag=''       \n",
    "                    if(newtag != ''):\n",
    "                        synsets = list(swn.senti_synsets(lemmatized, newtag))\n",
    "                        score = 0\n",
    "                        if(len(synsets) > 0):\n",
    "                            nosenti_count = 0\n",
    "                            for syn in synsets:\n",
    "                                if syn.pos_score() == 0 and syn.neg_score() == 0:\n",
    "                                    nosenti_count += 1\n",
    "                                    continue\n",
    "                                else:\n",
    "                                    score +=syn.pos_score()-syn.neg_score()       \n",
    "                            if len(synsets) != nosenti_count:\n",
    "                                score_list.append(score/(len(synsets)-nosenti_count)) \n",
    "                        else:\n",
    "                            continue\n",
    "                if score_list != []:\n",
    "                    total_sentiscore = 0\n",
    "                    for score in score_list:\n",
    "                        total_sentiscore += score  \n",
    "                    #print(total_sentiscore)\n",
    "                    total_sentiscore_list.append(total_sentiscore)\n",
    "                else:\n",
    "                    total_sentiscore_list.append(0)\n",
    "            else:\n",
    "                 #print('0')\n",
    "                 total_sentiscore_list.append(0)\n",
    "        except:\n",
    "            total_sentiscore_list.append(0)\n",
    "score_store(total_sentiscore_list)"
   ]
  },
  {
   "cell_type": "code",
   "execution_count": 6,
   "metadata": {
    "collapsed": true
   },
   "outputs": [],
   "source": [
    "length_emot=[]\n",
    "for child in root.iter(tag='TEXT'):\n",
    "    if child.attrib[\"id\"] in doc_num:\n",
    "        html_parser = html.parser.HTMLParser()\n",
    "        content = html_parser.unescape(child.text)\n",
    "        content=content.replace('<br>',' ')\n",
    "        ans = emot.emoticons(content)\n",
    "        try:\n",
    "            #length_emot.append(len(ans['value'])) \n",
    "            length_emot.append(len(ans['value']))\n",
    "        except:\n",
    "            length_emot.append(0)\n",
    "store(length_emot)"
   ]
  },
  {
   "cell_type": "code",
   "execution_count": null,
   "metadata": {
    "collapsed": true
   },
   "outputs": [],
   "source": []
  }
 ],
 "metadata": {
  "kernelspec": {
   "display_name": "Python 3",
   "language": "python",
   "name": "python3"
  },
  "language_info": {
   "codemirror_mode": {
    "name": "ipython",
    "version": 3
   },
   "file_extension": ".py",
   "mimetype": "text/x-python",
   "name": "python",
   "nbconvert_exporter": "python",
   "pygments_lexer": "ipython3",
   "version": "3.6.1"
  }
 },
 "nbformat": 4,
 "nbformat_minor": 2
}
