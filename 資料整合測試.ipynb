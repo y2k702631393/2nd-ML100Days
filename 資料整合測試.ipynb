{
 "cells": [
  {
   "cell_type": "code",
   "execution_count": 42,
   "metadata": {},
   "outputs": [],
   "source": [
    "import pandas as pd\n",
    "import numpy as np\n",
    "import os\n",
    "import codecs\n",
    "import re\n",
    "import sys\n",
    "from datetime import datetime"
   ]
  },
  {
   "cell_type": "code",
   "execution_count": 8,
   "metadata": {},
   "outputs": [
    {
     "data": {
      "text/html": [
       "<div>\n",
       "<style scoped>\n",
       "    .dataframe tbody tr th:only-of-type {\n",
       "        vertical-align: middle;\n",
       "    }\n",
       "\n",
       "    .dataframe tbody tr th {\n",
       "        vertical-align: top;\n",
       "    }\n",
       "\n",
       "    .dataframe thead th {\n",
       "        text-align: right;\n",
       "    }\n",
       "</style>\n",
       "<table border=\"1\" class=\"dataframe\">\n",
       "  <thead>\n",
       "    <tr style=\"text-align: right;\">\n",
       "      <th></th>\n",
       "      <th>中文,英文,value,date,time</th>\n",
       "    </tr>\n",
       "  </thead>\n",
       "  <tbody>\n",
       "    <tr>\n",
       "      <th>0</th>\n",
       "      <td>你好,a,123,2019/1/1,5:30</td>\n",
       "    </tr>\n",
       "    <tr>\n",
       "      <th>1</th>\n",
       "      <td>我是,b,456,2019/1/2,6:30</td>\n",
       "    </tr>\n",
       "  </tbody>\n",
       "</table>\n",
       "</div>"
      ],
      "text/plain": [
       "    中文,英文,value,date,time\n",
       "0  你好,a,123,2019/1/1,5:30\n",
       "1  我是,b,456,2019/1/2,6:30"
      ]
     },
     "execution_count": 8,
     "metadata": {},
     "output_type": "execute_result"
    }
   ],
   "source": [
    "txtpath='C:/Users/y2k702631393/Desktop/'\n",
    "df=pd.read_csv(txtpath+'tt1.csv', 'r',encoding='big5')\n",
    "df.head(2)"
   ]
  },
  {
   "cell_type": "code",
   "execution_count": 14,
   "metadata": {},
   "outputs": [
    {
     "data": {
      "text/html": [
       "<div>\n",
       "<style scoped>\n",
       "    .dataframe tbody tr th:only-of-type {\n",
       "        vertical-align: middle;\n",
       "    }\n",
       "\n",
       "    .dataframe tbody tr th {\n",
       "        vertical-align: top;\n",
       "    }\n",
       "\n",
       "    .dataframe thead th {\n",
       "        text-align: right;\n",
       "    }\n",
       "</style>\n",
       "<table border=\"1\" class=\"dataframe\">\n",
       "  <thead>\n",
       "    <tr style=\"text-align: right;\">\n",
       "      <th></th>\n",
       "      <th>A,B,C,d,e</th>\n",
       "    </tr>\n",
       "  </thead>\n",
       "  <tbody>\n",
       "    <tr>\n",
       "      <th>0</th>\n",
       "      <td>你好,a,123,2019/1/1,5:30</td>\n",
       "    </tr>\n",
       "    <tr>\n",
       "      <th>1</th>\n",
       "      <td>我是,b,456,2019/1/2,6:30</td>\n",
       "    </tr>\n",
       "    <tr>\n",
       "      <th>2</th>\n",
       "      <td>裡要,b,789,2019/1/3,7:30</td>\n",
       "    </tr>\n",
       "    <tr>\n",
       "      <th>3</th>\n",
       "      <td>先割,b,4564,2019/1/4,8:30</td>\n",
       "    </tr>\n",
       "    <tr>\n",
       "      <th>4</th>\n",
       "      <td>多多,c,213,2019/1/5,9:30</td>\n",
       "    </tr>\n",
       "    <tr>\n",
       "      <th>5</th>\n",
       "      <td>指教,s,5484,2019/1/6,10:30</td>\n",
       "    </tr>\n",
       "    <tr>\n",
       "      <th>6</th>\n",
       "      <td>喔,e,1238,2019/1/7,11:30</td>\n",
       "    </tr>\n",
       "  </tbody>\n",
       "</table>\n",
       "</div>"
      ],
      "text/plain": [
       "                  A,B,C,d,e\n",
       "0    你好,a,123,2019/1/1,5:30\n",
       "1    我是,b,456,2019/1/2,6:30\n",
       "2    裡要,b,789,2019/1/3,7:30\n",
       "3   先割,b,4564,2019/1/4,8:30\n",
       "4    多多,c,213,2019/1/5,9:30\n",
       "5  指教,s,5484,2019/1/6,10:30\n",
       "6   喔,e,1238,2019/1/7,11:30"
      ]
     },
     "execution_count": 14,
     "metadata": {},
     "output_type": "execute_result"
    }
   ],
   "source": [
    "df.columns = ['A,B,C,d,e']\n",
    "df"
   ]
  },
  {
   "cell_type": "code",
   "execution_count": 15,
   "metadata": {},
   "outputs": [
    {
     "data": {
      "text/html": [
       "<div>\n",
       "<style scoped>\n",
       "    .dataframe tbody tr th:only-of-type {\n",
       "        vertical-align: middle;\n",
       "    }\n",
       "\n",
       "    .dataframe tbody tr th {\n",
       "        vertical-align: top;\n",
       "    }\n",
       "\n",
       "    .dataframe thead th {\n",
       "        text-align: right;\n",
       "    }\n",
       "</style>\n",
       "<table border=\"1\" class=\"dataframe\">\n",
       "  <thead>\n",
       "    <tr style=\"text-align: right;\">\n",
       "      <th></th>\n",
       "      <th>0</th>\n",
       "      <th>1</th>\n",
       "      <th>2</th>\n",
       "      <th>3</th>\n",
       "      <th>4</th>\n",
       "    </tr>\n",
       "  </thead>\n",
       "  <tbody>\n",
       "    <tr>\n",
       "      <th>0</th>\n",
       "      <td>你好</td>\n",
       "      <td>a</td>\n",
       "      <td>123</td>\n",
       "      <td>2019/1/1</td>\n",
       "      <td>5:30</td>\n",
       "    </tr>\n",
       "    <tr>\n",
       "      <th>1</th>\n",
       "      <td>我是</td>\n",
       "      <td>b</td>\n",
       "      <td>456</td>\n",
       "      <td>2019/1/2</td>\n",
       "      <td>6:30</td>\n",
       "    </tr>\n",
       "    <tr>\n",
       "      <th>2</th>\n",
       "      <td>裡要</td>\n",
       "      <td>b</td>\n",
       "      <td>789</td>\n",
       "      <td>2019/1/3</td>\n",
       "      <td>7:30</td>\n",
       "    </tr>\n",
       "    <tr>\n",
       "      <th>3</th>\n",
       "      <td>先割</td>\n",
       "      <td>b</td>\n",
       "      <td>4564</td>\n",
       "      <td>2019/1/4</td>\n",
       "      <td>8:30</td>\n",
       "    </tr>\n",
       "    <tr>\n",
       "      <th>4</th>\n",
       "      <td>多多</td>\n",
       "      <td>c</td>\n",
       "      <td>213</td>\n",
       "      <td>2019/1/5</td>\n",
       "      <td>9:30</td>\n",
       "    </tr>\n",
       "    <tr>\n",
       "      <th>5</th>\n",
       "      <td>指教</td>\n",
       "      <td>s</td>\n",
       "      <td>5484</td>\n",
       "      <td>2019/1/6</td>\n",
       "      <td>10:30</td>\n",
       "    </tr>\n",
       "    <tr>\n",
       "      <th>6</th>\n",
       "      <td>喔</td>\n",
       "      <td>e</td>\n",
       "      <td>1238</td>\n",
       "      <td>2019/1/7</td>\n",
       "      <td>11:30</td>\n",
       "    </tr>\n",
       "  </tbody>\n",
       "</table>\n",
       "</div>"
      ],
      "text/plain": [
       "    0  1     2         3      4\n",
       "0  你好  a   123  2019/1/1   5:30\n",
       "1  我是  b   456  2019/1/2   6:30\n",
       "2  裡要  b   789  2019/1/3   7:30\n",
       "3  先割  b  4564  2019/1/4   8:30\n",
       "4  多多  c   213  2019/1/5   9:30\n",
       "5  指教  s  5484  2019/1/6  10:30\n",
       "6   喔  e  1238  2019/1/7  11:30"
      ]
     },
     "execution_count": 15,
     "metadata": {},
     "output_type": "execute_result"
    }
   ],
   "source": [
    "#  True False 行跟列的差異\n",
    "df3 = df['A,B,C,d,e'].str.split(',', 5, True)\n",
    "df3"
   ]
  },
  {
   "cell_type": "code",
   "execution_count": 31,
   "metadata": {},
   "outputs": [
    {
     "data": {
      "text/html": [
       "<div>\n",
       "<style scoped>\n",
       "    .dataframe tbody tr th:only-of-type {\n",
       "        vertical-align: middle;\n",
       "    }\n",
       "\n",
       "    .dataframe tbody tr th {\n",
       "        vertical-align: top;\n",
       "    }\n",
       "\n",
       "    .dataframe thead th {\n",
       "        text-align: right;\n",
       "    }\n",
       "</style>\n",
       "<table border=\"1\" class=\"dataframe\">\n",
       "  <thead>\n",
       "    <tr style=\"text-align: right;\">\n",
       "      <th></th>\n",
       "      <th>數值</th>\n",
       "      <th>日期</th>\n",
       "      <th>時間</th>\n",
       "    </tr>\n",
       "  </thead>\n",
       "  <tbody>\n",
       "    <tr>\n",
       "      <th>0</th>\n",
       "      <td>123</td>\n",
       "      <td>2019/1/1</td>\n",
       "      <td>5:30</td>\n",
       "    </tr>\n",
       "    <tr>\n",
       "      <th>1</th>\n",
       "      <td>456</td>\n",
       "      <td>2019/1/2</td>\n",
       "      <td>6:30</td>\n",
       "    </tr>\n",
       "    <tr>\n",
       "      <th>2</th>\n",
       "      <td>789</td>\n",
       "      <td>2019/1/3</td>\n",
       "      <td>7:30</td>\n",
       "    </tr>\n",
       "    <tr>\n",
       "      <th>3</th>\n",
       "      <td>4564</td>\n",
       "      <td>2019/1/4</td>\n",
       "      <td>8:30</td>\n",
       "    </tr>\n",
       "    <tr>\n",
       "      <th>4</th>\n",
       "      <td>213</td>\n",
       "      <td>2019/1/5</td>\n",
       "      <td>9:30</td>\n",
       "    </tr>\n",
       "    <tr>\n",
       "      <th>5</th>\n",
       "      <td>5484</td>\n",
       "      <td>2019/1/6</td>\n",
       "      <td>10:30</td>\n",
       "    </tr>\n",
       "    <tr>\n",
       "      <th>6</th>\n",
       "      <td>1238</td>\n",
       "      <td>2019/1/7</td>\n",
       "      <td>11:30</td>\n",
       "    </tr>\n",
       "  </tbody>\n",
       "</table>\n",
       "</div>"
      ],
      "text/plain": [
       "     數值        日期     時間\n",
       "0   123  2019/1/1   5:30\n",
       "1   456  2019/1/2   6:30\n",
       "2   789  2019/1/3   7:30\n",
       "3  4564  2019/1/4   8:30\n",
       "4   213  2019/1/5   9:30\n",
       "5  5484  2019/1/6  10:30\n",
       "6  1238  2019/1/7  11:30"
      ]
     },
     "execution_count": 31,
     "metadata": {},
     "output_type": "execute_result"
    }
   ],
   "source": [
    "df3.columns = ['Chinenese','Eng','Value','日期','時間']\n",
    "df_value = df3.drop(['Chinenese','Eng'] , axis=1)\n",
    "df_value=df_value.rename(columns={'Value':'數值'})\n",
    "\n",
    "df_value"
   ]
  },
  {
   "cell_type": "code",
   "execution_count": 57,
   "metadata": {},
   "outputs": [
    {
     "data": {
      "text/html": [
       "<div>\n",
       "<style scoped>\n",
       "    .dataframe tbody tr th:only-of-type {\n",
       "        vertical-align: middle;\n",
       "    }\n",
       "\n",
       "    .dataframe tbody tr th {\n",
       "        vertical-align: top;\n",
       "    }\n",
       "\n",
       "    .dataframe thead th {\n",
       "        text-align: right;\n",
       "    }\n",
       "</style>\n",
       "<table border=\"1\" class=\"dataframe\">\n",
       "  <thead>\n",
       "    <tr style=\"text-align: right;\">\n",
       "      <th></th>\n",
       "      <th>數值</th>\n",
       "      <th>日期</th>\n",
       "      <th>時間</th>\n",
       "      <th>all time</th>\n",
       "    </tr>\n",
       "  </thead>\n",
       "  <tbody>\n",
       "    <tr>\n",
       "      <th>0</th>\n",
       "      <td>123</td>\n",
       "      <td>2019/1/1</td>\n",
       "      <td>5:30</td>\n",
       "      <td>2019/1/1/5:30</td>\n",
       "    </tr>\n",
       "    <tr>\n",
       "      <th>1</th>\n",
       "      <td>456</td>\n",
       "      <td>2019/1/2</td>\n",
       "      <td>6:30</td>\n",
       "      <td>2019/1/2/6:30</td>\n",
       "    </tr>\n",
       "    <tr>\n",
       "      <th>2</th>\n",
       "      <td>789</td>\n",
       "      <td>2019/1/3</td>\n",
       "      <td>7:30</td>\n",
       "      <td>2019/1/3/7:30</td>\n",
       "    </tr>\n",
       "    <tr>\n",
       "      <th>3</th>\n",
       "      <td>4564</td>\n",
       "      <td>2019/1/4</td>\n",
       "      <td>8:30</td>\n",
       "      <td>2019/1/4/8:30</td>\n",
       "    </tr>\n",
       "    <tr>\n",
       "      <th>4</th>\n",
       "      <td>213</td>\n",
       "      <td>2019/1/5</td>\n",
       "      <td>9:30</td>\n",
       "      <td>2019/1/5/9:30</td>\n",
       "    </tr>\n",
       "    <tr>\n",
       "      <th>5</th>\n",
       "      <td>5484</td>\n",
       "      <td>2019/1/6</td>\n",
       "      <td>10:30</td>\n",
       "      <td>2019/1/6/10:30</td>\n",
       "    </tr>\n",
       "    <tr>\n",
       "      <th>6</th>\n",
       "      <td>1238</td>\n",
       "      <td>2019/1/7</td>\n",
       "      <td>11:30</td>\n",
       "      <td>2019/1/7/11:30</td>\n",
       "    </tr>\n",
       "  </tbody>\n",
       "</table>\n",
       "</div>"
      ],
      "text/plain": [
       "     數值        日期     時間        all time\n",
       "0   123  2019/1/1   5:30   2019/1/1/5:30\n",
       "1   456  2019/1/2   6:30   2019/1/2/6:30\n",
       "2   789  2019/1/3   7:30   2019/1/3/7:30\n",
       "3  4564  2019/1/4   8:30   2019/1/4/8:30\n",
       "4   213  2019/1/5   9:30   2019/1/5/9:30\n",
       "5  5484  2019/1/6  10:30  2019/1/6/10:30\n",
       "6  1238  2019/1/7  11:30  2019/1/7/11:30"
      ]
     },
     "execution_count": 57,
     "metadata": {},
     "output_type": "execute_result"
    }
   ],
   "source": [
    "df_value['all time']=df_value['日期']+'/'+df_value['時間']\n",
    "df_value"
   ]
  },
  {
   "cell_type": "code",
   "execution_count": 73,
   "metadata": {},
   "outputs": [
    {
     "name": "stdout",
     "output_type": "stream",
     "text": [
      "<class 'pandas.core.frame.DataFrame'>\n",
      "RangeIndex: 7 entries, 0 to 6\n",
      "Data columns (total 4 columns):\n",
      "數值          7 non-null float64\n",
      "日期          7 non-null object\n",
      "時間          7 non-null object\n",
      "all time    7 non-null datetime64[ns]\n",
      "dtypes: datetime64[ns](1), float64(1), object(2)\n",
      "memory usage: 304.0+ bytes\n"
     ]
    }
   ],
   "source": [
    "df_value['數值']=pd.DataFrame(df_value['數值'],dtype=np.float)\n",
    "df_value.info()"
   ]
  },
  {
   "cell_type": "code",
   "execution_count": 74,
   "metadata": {},
   "outputs": [
    {
     "data": {
      "text/plain": [
       "0   2019-01-01 05:30:00\n",
       "1   2019-01-02 06:30:00\n",
       "2   2019-01-03 07:30:00\n",
       "3   2019-01-04 08:30:00\n",
       "4   2019-01-05 09:30:00\n",
       "5   2019-01-06 10:30:00\n",
       "6   2019-01-07 11:30:00\n",
       "Name: all time, dtype: datetime64[ns]"
      ]
     },
     "execution_count": 74,
     "metadata": {},
     "output_type": "execute_result"
    }
   ],
   "source": [
    "df_value['all time']=df_value['all time'].apply(pd.to_datetime,format='%Y/%m/%d %H:%M')\n",
    "df_value['all time']"
   ]
  },
  {
   "cell_type": "code",
   "execution_count": 75,
   "metadata": {},
   "outputs": [
    {
     "name": "stdout",
     "output_type": "stream",
     "text": [
      "0 Integer Features : []\n",
      "\n",
      "0 Float Features : []\n",
      "\n",
      "5 Object Features : ['Chinenese', 'Eng', 'Value', '日期', '時間']\n"
     ]
    }
   ],
   "source": [
    "int_features = []\n",
    "float_features = []\n",
    "object_features = []\n",
    "for dtype, feature in zip(df3.dtypes, df3.columns):\n",
    "    if dtype == ' float64':\n",
    "        float_features.append(feature)\n",
    "    elif dtype == 'int64':\n",
    "        int_features.append(feature)\n",
    "    else:\n",
    "        object_features.append(feature)\n",
    "print(f'{len(int_features)} Integer Features : {int_features}\\n')\n",
    "print(f'{len(float_features)} Float Features : {float_features}\\n')\n",
    "print(f'{len(object_features)} Object Features : {object_features}')"
   ]
  },
  {
   "cell_type": "code",
   "execution_count": null,
   "metadata": {},
   "outputs": [],
   "source": [
    "# 削減文字型欄位, 只剩數值型欄位\n",
    "df = df[num_features]\n",
    "df = df.fillna(0)\n",
    "MMEncoder = MinMaxScaler()\n",
    "train_num = train_Y.shape[0]\n",
    "df.head()"
   ]
  }
 ],
 "metadata": {
  "kernelspec": {
   "display_name": "Python 3",
   "language": "python",
   "name": "python3"
  },
  "language_info": {
   "codemirror_mode": {
    "name": "ipython",
    "version": 3
   },
   "file_extension": ".py",
   "mimetype": "text/x-python",
   "name": "python",
   "nbconvert_exporter": "python",
   "pygments_lexer": "ipython3",
   "version": "3.6.5"
  }
 },
 "nbformat": 4,
 "nbformat_minor": 2
}
